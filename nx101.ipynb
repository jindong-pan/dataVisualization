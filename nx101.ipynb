{
  "nbformat": 4,
  "nbformat_minor": 0,
  "metadata": {
    "colab": {
      "name": "nx101.ipynb",
      "provenance": [],
      "collapsed_sections": [],
      "authorship_tag": "ABX9TyMzKBBiO/0Tw0RSc2Z9Qwtd",
      "include_colab_link": true
    },
    "kernelspec": {
      "name": "python3",
      "display_name": "Python 3"
    },
    "language_info": {
      "name": "python"
    }
  },
  "cells": [
    {
      "cell_type": "markdown",
      "metadata": {
        "id": "view-in-github",
        "colab_type": "text"
      },
      "source": [
        "<a href=\"https://colab.research.google.com/github/jindong-pan/dataVisualization/blob/main/nx101.ipynb\" target=\"_parent\"><img src=\"https://colab.research.google.com/assets/colab-badge.svg\" alt=\"Open In Colab\"/></a>"
      ]
    },
    {
      "cell_type": "code",
      "metadata": {
        "id": "L92dsXXCqdhC"
      },
      "source": [
        "import networkx as nx\n",
        "G0=nx.path_graph(5)\n",
        "G1=nx.cycle_graph(5)\n",
        "G2=nx.barbell_graph(10, 2)"
      ],
      "execution_count": null,
      "outputs": []
    },
    {
      "cell_type": "code",
      "metadata": {
        "colab": {
          "base_uri": "https://localhost:8080/",
          "height": 336
        },
        "id": "3cnbHtJKqzF_",
        "outputId": "020b0619-dc07-4751-e7c7-49f709628fae"
      },
      "source": [
        "nx.draw(G2,with_labels=True, node_size=600, label=\"brides\") # node_size and node_color can be array\n",
        "list(nx.algorithms.bridges(G2))"
      ],
      "execution_count": null,
      "outputs": [
        {
          "output_type": "execute_result",
          "data": {
            "text/plain": [
              "[(9, 10), (10, 11), (11, 12)]"
            ]
          },
          "metadata": {
            "tags": []
          },
          "execution_count": 3
        },
        {
          "output_type": "display_data",
          "data": {
            "image/png": "[encoded data removed]",
            "text/plain": [
              "<Figure size 432x288 with 1 Axes>"
            ]
          },
          "metadata": {
            "tags": []
          }
        }
      ]
    },
    {
      "cell_type": "code",
      "metadata": {
        "colab": {
          "base_uri": "https://localhost:8080/"
        },
        "id": "DL37VfPVoTHL",
        "outputId": "be128206-a13d-4be8-8493-3fdcfe53ba4b"
      },
      "source": [
        "nx.has_bridges(G2)"
      ],
      "execution_count": null,
      "outputs": [
        {
          "output_type": "execute_result",
          "data": {
            "text/plain": [
              "True"
            ]
          },
          "metadata": {
            "tags": []
          },
          "execution_count": 4
        }
      ]
    },
    {
      "cell_type": "code",
      "metadata": {
        "colab": {
          "base_uri": "https://localhost:8080/"
        },
        "id": "QmF30d0coe0o",
        "outputId": "94d2ab7d-b084-44be-a1d5-6e6f790e8597"
      },
      "source": [
        "nx.has_bridges(G0)"
      ],
      "execution_count": null,
      "outputs": [
        {
          "output_type": "execute_result",
          "data": {
            "text/plain": [
              "True"
            ]
          },
          "metadata": {
            "tags": []
          },
          "execution_count": 5
        }
      ]
    },
    {
      "cell_type": "code",
      "metadata": {
        "colab": {
          "base_uri": "https://localhost:8080/"
        },
        "id": "KB8583OpomOx",
        "outputId": "692e8408-8d18-4f80-e306-928e1807f23f"
      },
      "source": [
        "nx.has_bridges(G1)"
      ],
      "execution_count": null,
      "outputs": [
        {
          "output_type": "execute_result",
          "data": {
            "text/plain": [
              "False"
            ]
          },
          "metadata": {
            "tags": []
          },
          "execution_count": 6
        }
      ]
    },
    {
      "cell_type": "code",
      "metadata": {
        "colab": {
          "base_uri": "https://localhost:8080/"
        },
        "id": "IoxH6XQYpcqe",
        "outputId": "2c38ebb5-f237-4542-b58c-4460848e2255"
      },
      "source": [
        "set(nx.local_bridges(G1))"
      ],
      "execution_count": null,
      "outputs": [
        {
          "output_type": "execute_result",
          "data": {
            "text/plain": [
              "{(0, 1, 4), (0, 4, 4), (1, 2, 4), (2, 3, 4), (3, 4, 4)}"
            ]
          },
          "metadata": {
            "tags": []
          },
          "execution_count": 7
        }
      ]
    },
    {
      "cell_type": "code",
      "metadata": {
        "colab": {
          "base_uri": "https://localhost:8080/"
        },
        "id": "3rQQ2qe9raXc",
        "outputId": "9d20687a-be83-4c20-a834-811407cbe70c"
      },
      "source": [
        "nx.degree_centrality(G0)"
      ],
      "execution_count": null,
      "outputs": [
        {
          "output_type": "execute_result",
          "data": {
            "text/plain": [
              "{0: 0.25, 1: 0.5, 2: 0.5, 3: 0.5, 4: 0.25}"
            ]
          },
          "metadata": {
            "tags": []
          },
          "execution_count": 8
        }
      ]
    },
    {
      "cell_type": "code",
      "metadata": {
        "colab": {
          "base_uri": "https://localhost:8080/",
          "height": 319
        },
        "id": "tDiVXqSC6bXs",
        "outputId": "99ead576-714f-41d4-8da4-ad01c0bd268a"
      },
      "source": [
        "nx.draw(G0, with_labels=True, node_size=600)"
      ],
      "execution_count": null,
      "outputs": [
        {
          "output_type": "display_data",
          "data": {
            "image/png": "[encoded data removed]",
            "text/plain": [
              "<Figure size 432x288 with 1 Axes>"
            ]
          },
          "metadata": {
            "tags": []
          }
        }
      ]
    },
    {
      "cell_type": "code",
      "metadata": {
        "colab": {
          "base_uri": "https://localhost:8080/"
        },
        "id": "yo86rve16-eb",
        "outputId": "a41409b0-cd6f-48a0-a7d3-9e5b2055d7fd"
      },
      "source": [
        "nx.eigenvector_centrality(G0)"
      ],
      "execution_count": null,
      "outputs": [
        {
          "output_type": "execute_result",
          "data": {
            "text/plain": [
              "{0: 0.2886760320285293,\n",
              " 1: 0.49999999508235293,\n",
              " 2: 0.5773493802714443,\n",
              " 3: 0.49999999508235293,\n",
              " 4: 0.2886760320285293}"
            ]
          },
          "metadata": {
            "tags": []
          },
          "execution_count": 12
        }
      ]
    }
  ]
}